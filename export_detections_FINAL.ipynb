{
 "cells": [
  {
   "cell_type": "markdown",
   "metadata": {},
   "source": [
    "## Auditing and Exporting Detections"
   ]
  },
  {
   "cell_type": "code",
   "execution_count": 1,
   "metadata": {},
   "outputs": [],
   "source": [
    "import os\n",
    "import argparse\n",
    "import numpy as np\n",
    "import json\n",
    "import csv\n",
    "import rasterio\n",
    "\n",
    "from shapely.geometry import mapping, Polygon\n",
    "import fiona # only required for exporting to shapefiles"
   ]
  },
  {
   "cell_type": "code",
   "execution_count": 2,
   "metadata": {},
   "outputs": [],
   "source": [
    "# ingest the image\n",
    "infile = \"mosaics/GrandJason_SEBlob_Nov2019_New_transparent_mosaic_group1.tif\"\n",
    "img_dir = infile.split(\".\")[0] \n",
    "prj_name = img_dir.split(\"/\")[-1]"
   ]
  },
  {
   "cell_type": "code",
   "execution_count": 3,
   "metadata": {},
   "outputs": [
    {
     "data": {
      "text/plain": [
       "'mosaics/GrandJason_SEBlob_Nov2019_New_transparent_mosaic_group1'"
      ]
     },
     "execution_count": 3,
     "metadata": {},
     "output_type": "execute_result"
    }
   ],
   "source": [
    "img_dir"
   ]
  },
  {
   "cell_type": "code",
   "execution_count": 4,
   "metadata": {},
   "outputs": [],
   "source": [
    "# open the output from detection\n",
    "with open('detections_albatross/final/detections_grandjason_seblob_500x500_overlap60.json') as f:\n",
    "    detected_labels = json.load(f)"
   ]
  },
  {
   "cell_type": "code",
   "execution_count": 5,
   "metadata": {
    "scrolled": true
   },
   "outputs": [
    {
     "data": {
      "text/plain": [
       "1543"
      ]
     },
     "execution_count": 5,
     "metadata": {},
     "output_type": "execute_result"
    }
   ],
   "source": [
    "len(detected_labels)"
   ]
  },
  {
   "cell_type": "markdown",
   "metadata": {},
   "source": [
    "### Exporting to Shapefile"
   ]
  },
  {
   "cell_type": "code",
   "execution_count": 6,
   "metadata": {},
   "outputs": [],
   "source": [
    "image_annotations = []\n",
    "for key, value in detected_labels.items():\n",
    "    #print(key)\n",
    "    annotation = [[key][0].split(\"/\")[-1]]\n",
    "    detections = []\n",
    "    for item in value:\n",
    "        box = item['box']\n",
    "        detections.append(box)\n",
    "        #print(item)\n",
    "    annotation.append(detections)\n",
    "    image_annotations.append(annotation)"
   ]
  },
  {
   "cell_type": "code",
   "execution_count": 7,
   "metadata": {},
   "outputs": [],
   "source": [
    "scores = []\n",
    "for key, value in detected_labels.items():\n",
    "    for item in value:\n",
    "        score = item['score']\n",
    "        scores.append(score)"
   ]
  },
  {
   "cell_type": "code",
   "execution_count": 8,
   "metadata": {},
   "outputs": [],
   "source": [
    "with open('mosaics/metadata/grandjason_seblob_edited_data_500x500_overlap60.json') as f:\n",
    "    img_data = json.load(f)\n",
    "\n",
    "image_bbox = []\n",
    "for annotation in image_annotations:\n",
    "    for detection in annotation[1]:\n",
    "        try:\n",
    "            local_bounding_box = np.array([[detection[0], detection[1]], [detection[2], detection[1]], [detection[2], detection[3]], [detection[0], detection[3]]]).astype(int)\n",
    "            image_located_bb = local_bounding_box + [img_data[\"image_locations\"][annotation[0]]]\n",
    "            image_bbox.append(image_located_bb)\n",
    "            \n",
    "        except ValueError: # if the image doesn't have a detection\n",
    "            pass"
   ]
  },
  {
   "cell_type": "code",
   "execution_count": 9,
   "metadata": {
    "scrolled": true
   },
   "outputs": [
    {
     "data": {
      "text/plain": [
       "4558"
      ]
     },
     "execution_count": 9,
     "metadata": {},
     "output_type": "execute_result"
    }
   ],
   "source": [
    "len(image_bbox)"
   ]
  },
  {
   "cell_type": "code",
   "execution_count": 10,
   "metadata": {},
   "outputs": [],
   "source": [
    "bbox = []\n",
    "for annotation in image_bbox:\n",
    "    x1 = annotation[0][0]\n",
    "    y1 = annotation[0][1]\n",
    "    x2 = annotation[1][0]\n",
    "    y2 = annotation[2][1]\n",
    "    bounding_box = [x1,y1,x2,y2]\n",
    "    bbox.append(bounding_box)"
   ]
  },
  {
   "cell_type": "code",
   "execution_count": 11,
   "metadata": {},
   "outputs": [
    {
     "data": {
      "text/plain": [
       "4558"
      ]
     },
     "execution_count": 11,
     "metadata": {},
     "output_type": "execute_result"
    }
   ],
   "source": [
    "len(bbox)"
   ]
  },
  {
   "cell_type": "code",
   "execution_count": 12,
   "metadata": {},
   "outputs": [],
   "source": [
    "bboxes = np.array(bbox)"
   ]
  },
  {
   "cell_type": "code",
   "execution_count": 13,
   "metadata": {},
   "outputs": [
    {
     "data": {
      "text/plain": [
       "(4558, 4)"
      ]
     },
     "execution_count": 13,
     "metadata": {},
     "output_type": "execute_result"
    }
   ],
   "source": [
    "bboxes.shape"
   ]
  },
  {
   "cell_type": "code",
   "execution_count": 14,
   "metadata": {},
   "outputs": [
    {
     "data": {
      "text/plain": [
       "2"
      ]
     },
     "execution_count": 14,
     "metadata": {},
     "output_type": "execute_result"
    }
   ],
   "source": [
    "bboxes.ndim"
   ]
  },
  {
   "cell_type": "code",
   "execution_count": 15,
   "metadata": {},
   "outputs": [
    {
     "data": {
      "text/plain": [
       "4558"
      ]
     },
     "execution_count": 15,
     "metadata": {},
     "output_type": "execute_result"
    }
   ],
   "source": [
    "len(bboxes)"
   ]
  },
  {
   "cell_type": "code",
   "execution_count": 16,
   "metadata": {},
   "outputs": [],
   "source": [
    "# Malisiewicz et al.\n",
    "# import the necessary packages\n",
    "import numpy as np\n",
    "\n",
    "def non_max_suppression(boxes, probs=None, overlapThresh=0.6):\n",
    "    # if there are no boxes, return an empty list\n",
    "    if len(boxes) == 0:\n",
    "        return []\n",
    "\n",
    "    # if the bounding boxes are integers, convert them to floats -- this\n",
    "    # is important since we'll be doing a bunch of divisions\n",
    "    if boxes.dtype.kind == \"i\":\n",
    "        boxes = boxes.astype(\"float\")\n",
    "\n",
    "    # initialize the list of picked indexes\n",
    "    pick = []\n",
    "\n",
    "    # grab the coordinates of the bounding boxes\n",
    "    x1 = boxes[:, 0]\n",
    "    y1 = boxes[:, 1]\n",
    "    x2 = boxes[:, 2]\n",
    "    y2 = boxes[:, 3]\n",
    "\n",
    "    # compute the area of the bounding boxes and grab the indexes to sort\n",
    "    # (in the case that no probabilities are provided, simply sort on the\n",
    "    # bottom-left y-coordinate)\n",
    "    area = (x2 - x1 + 1) * (y2 - y1 + 1)\n",
    "    idxs = y2\n",
    "\n",
    "    # if probabilities are provided, sort on them instead\n",
    "    if probs is not None:\n",
    "        idxs = probs\n",
    "\n",
    "    # sort the indexes\n",
    "    idxs = np.argsort(idxs)\n",
    "\n",
    "    # keep looping while some indexes still remain in the indexes list\n",
    "    while len(idxs) > 0:\n",
    "        # grab the last index in the indexes list and add the index value\n",
    "        # to the list of picked indexes\n",
    "        last = len(idxs) - 1\n",
    "        i = idxs[last]\n",
    "        pick.append(i)\n",
    "\n",
    "        # find the largest (x, y) coordinates for the start of the bounding\n",
    "        # box and the smallest (x, y) coordinates for the end of the bounding\n",
    "        # box\n",
    "        xx1 = np.maximum(x1[i], x1[idxs[:last]])\n",
    "        yy1 = np.maximum(y1[i], y1[idxs[:last]])\n",
    "        xx2 = np.minimum(x2[i], x2[idxs[:last]])\n",
    "        yy2 = np.minimum(y2[i], y2[idxs[:last]])\n",
    "\n",
    "        # compute the width and height of the bounding box\n",
    "        w = np.maximum(0, xx2 - xx1 + 1)\n",
    "        h = np.maximum(0, yy2 - yy1 + 1)\n",
    "\n",
    "        # compute the ratio of overlap\n",
    "        overlap = (w * h) / area[idxs[:last]]\n",
    "\n",
    "        # delete all indexes from the index list that have overlap greater\n",
    "        # than the provided overlap threshold\n",
    "        idxs = np.delete(idxs, np.concatenate(([last],\n",
    "            np.where(overlap > overlapThresh)[0])))\n",
    "\n",
    "    # return only the bounding boxes that were picked\n",
    "    return boxes[pick].astype(\"int\")"
   ]
  },
  {
   "cell_type": "code",
   "execution_count": 17,
   "metadata": {
    "scrolled": true
   },
   "outputs": [],
   "source": [
    "pick = non_max_suppression(bboxes, scores, 0.6)"
   ]
  },
  {
   "cell_type": "code",
   "execution_count": 18,
   "metadata": {
    "scrolled": false
   },
   "outputs": [
    {
     "data": {
      "text/plain": [
       "3771"
      ]
     },
     "execution_count": 18,
     "metadata": {},
     "output_type": "execute_result"
    }
   ],
   "source": [
    "len(pick)"
   ]
  },
  {
   "cell_type": "code",
   "execution_count": 19,
   "metadata": {},
   "outputs": [],
   "source": [
    "pick_list = pick.tolist()"
   ]
  },
  {
   "cell_type": "code",
   "execution_count": 20,
   "metadata": {},
   "outputs": [],
   "source": [
    "# ingest back in the coordinates of detections within an image referenced by their filename\n",
    "\n",
    "with open('mosaics/metadata/grandjason_seblob_edited_data_500x500_overlap60.json') as f:\n",
    "    img_data = json.load(f)\n",
    "\n",
    "# open the satellite image\n",
    "dataset = rasterio.open(infile)\n",
    "\n",
    "geolocated_annotations_before_nms = []\n",
    "for annotation in image_annotations:\n",
    "    for detection in annotation[1]:\n",
    "        try:            \n",
    "            local_bounding_box = np.array([[detection[0], detection[1]], [detection[2], detection[1]], [detection[2], detection[3]], [detection[0], detection[3]]]).astype(int)\n",
    "            image_located_bb = local_bounding_box + [img_data[\"image_locations\"][annotation[0]]]\n",
    "            \n",
    "            geolocated_bb = []\n",
    "            for point in image_located_bb:\n",
    "                geolocated_bb.append(dataset.transform * point)\n",
    "            geolocated_annotations_before_nms.append(geolocated_bb)\n",
    "        except ValueError: # if the image doesn't have a detection\n",
    "            pass"
   ]
  },
  {
   "cell_type": "code",
   "execution_count": 21,
   "metadata": {},
   "outputs": [],
   "source": [
    "# ingest back in the coordinates of detections within an image referenced by their filename\n",
    "\n",
    "with open('mosaics/metadata/grandjason_seblob_edited_data_500x500_overlap60.json') as f:\n",
    "    img_data = json.load(f)\n",
    "\n",
    "# open the satellite image\n",
    "dataset = rasterio.open(infile)\n",
    "\n",
    "geolocated_annotations_after_nms = []\n",
    "\n",
    "for box in pick_list:\n",
    "    image_located_bb = np.array([[box[0], box[1]], [box[2], box[1]], [box[2], box[3]], [box[0], box[3]]]).astype(int)\n",
    "            \n",
    "    geolocated_bb = []\n",
    "    for point in image_located_bb:\n",
    "        geolocated_bb.append(dataset.transform * point)\n",
    "    geolocated_annotations_after_nms.append(geolocated_bb)\n",
    "            "
   ]
  },
  {
   "cell_type": "code",
   "execution_count": 22,
   "metadata": {
    "scrolled": true
   },
   "outputs": [
    {
     "data": {
      "text/plain": [
       "4558"
      ]
     },
     "execution_count": 22,
     "metadata": {},
     "output_type": "execute_result"
    }
   ],
   "source": [
    "len(geolocated_annotations_before_nms)"
   ]
  },
  {
   "cell_type": "code",
   "execution_count": 23,
   "metadata": {},
   "outputs": [
    {
     "data": {
      "text/plain": [
       "3771"
      ]
     },
     "execution_count": 23,
     "metadata": {},
     "output_type": "execute_result"
    }
   ],
   "source": [
    "len(geolocated_annotations_after_nms)"
   ]
  },
  {
   "cell_type": "code",
   "execution_count": 142,
   "metadata": {},
   "outputs": [],
   "source": [
    "# write out the detections as a shapefile\n",
    "\n",
    "from collections import OrderedDict\n",
    "import fiona\n",
    "from fiona.crs import from_epsg\n",
    "\n",
    "# Define your schema as a polygon geom with a couple of fields\n",
    "schema = {\n",
    "    'geometry': 'Polygon',\n",
    "    'properties': OrderedDict([\n",
    "        ('ImageName', 'str'),\n",
    "        ('Detection', 'str')\n",
    "  ])\n",
    "}\n",
    "\n",
    "with fiona.open(\n",
    "    'shapefiles_albatross/final/grandjason_seblob.shp',\n",
    "    'w',\n",
    "    driver='ESRI Shapefile',\n",
    "    crs=dataset.crs,\n",
    "    schema=schema) as c:\n",
    "    \n",
    "    for num, polygon in enumerate(geolocated_annotations_after_nms):\n",
    "        record = {\n",
    "            'geometry': {'coordinates': [polygon], 'type': 'Polygon'},\n",
    "            'id': num,\n",
    "            'properties': OrderedDict([('ImageName', infile),\n",
    "                                       ('Detection', 'Albatross')\n",
    "                                       ]),\n",
    "            'type': 'Feature'}\n",
    "        c.write(record)\n",
    "        "
   ]
  },
  {
   "cell_type": "code",
   "execution_count": null,
   "metadata": {},
   "outputs": [],
   "source": []
  }
 ],
 "metadata": {
  "kernelspec": {
   "display_name": "Python 3",
   "language": "python",
   "name": "python3"
  },
  "language_info": {
   "codemirror_mode": {
    "name": "ipython",
    "version": 3
   },
   "file_extension": ".py",
   "mimetype": "text/x-python",
   "name": "python",
   "nbconvert_exporter": "python",
   "pygments_lexer": "ipython3",
   "version": "3.8.2"
  }
 },
 "nbformat": 4,
 "nbformat_minor": 2
}
