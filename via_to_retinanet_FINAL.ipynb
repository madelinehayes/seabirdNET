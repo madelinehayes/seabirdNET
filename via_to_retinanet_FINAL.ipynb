{
 "cells": [
  {
   "cell_type": "code",
   "execution_count": 1,
   "metadata": {},
   "outputs": [],
   "source": [
    "import os\n",
    "import argparse\n",
    "import numpy as np\n",
    "import json\n",
    "import csv"
   ]
  },
  {
   "cell_type": "code",
   "execution_count": null,
   "metadata": {},
   "outputs": [],
   "source": [
    "#write all tile names to a list\n",
    "import os\n",
    "path_albatross = 'mosaics/albatross/labeled_tiles_albatross'\n",
    "image_list_albatross = [f for f in os.listdir(path_albatross) if f.endswith('.png')]\n",
    "image_list_albatross"
   ]
  },
  {
   "cell_type": "code",
   "execution_count": null,
   "metadata": {},
   "outputs": [],
   "source": [
    "import os \n",
    "path_penguin = 'mosaics/penguin/labeled_tiles_penguin'\n",
    "image_list_penguin = [f for f in os.listdir(path_penguin) if f.endswith('.png')]\n",
    "image_list_penguin"
   ]
  },
  {
   "cell_type": "code",
   "execution_count": 6,
   "metadata": {
    "scrolled": false
   },
   "outputs": [
    {
     "name": "stdout",
     "output_type": "stream",
     "text": [
      "1165\n"
     ]
    }
   ],
   "source": [
    "print(len(image_list_albatross))"
   ]
  },
  {
   "cell_type": "code",
   "execution_count": 7,
   "metadata": {
    "scrolled": true
   },
   "outputs": [
    {
     "name": "stdout",
     "output_type": "stream",
     "text": [
      "3433\n"
     ]
    }
   ],
   "source": [
    "print(len(image_list_penguin))"
   ]
  },
  {
   "cell_type": "code",
   "execution_count": 8,
   "metadata": {},
   "outputs": [
    {
     "name": "stdout",
     "output_type": "stream",
     "text": [
      "1165\n",
      "116 220\n",
      "116 104 945\n"
     ]
    }
   ],
   "source": [
    "#shuffle image list and split into training, testing, validation\n",
    "import random\n",
    "\n",
    "random.shuffle(image_list_albatross)\n",
    "total_count_albatross = len(image_list_albatross)\n",
    "\n",
    "print(total_count_albatross)\n",
    "\n",
    "test_index_albatross = int(total_count_albatross*.1)\n",
    "val_index_albatross = int(total_count_albatross*.9*.1) + test_index_albatross\n",
    "\n",
    "print(test_index_albatross, val_index_albatross)\n",
    "\n",
    "test_data_albatross = image_list_albatross[:test_index_albatross]\n",
    "val_data_albatross = image_list_albatross[test_index_albatross:val_index_albatross]\n",
    "train_data_albatross = image_list_albatross[val_index_albatross:]\n",
    "\n",
    "print(len(test_data_albatross), len(val_data_albatross), len(train_data_albatross))"
   ]
  },
  {
   "cell_type": "code",
   "execution_count": 9,
   "metadata": {},
   "outputs": [
    {
     "name": "stdout",
     "output_type": "stream",
     "text": [
      "3433\n",
      "343 651\n",
      "343 308 2782\n"
     ]
    }
   ],
   "source": [
    "#shuffle image list and split into training, testing, validation\n",
    "import random\n",
    "\n",
    "random.shuffle(image_list_penguin)\n",
    "total_count_penguin = len(image_list_penguin)\n",
    "\n",
    "print(total_count_penguin)\n",
    "\n",
    "test_index_penguin = int(total_count_penguin*.1)\n",
    "val_index_penguin = int(total_count_penguin*.9*.1) + test_index_penguin\n",
    "\n",
    "print(test_index_penguin, val_index_penguin)\n",
    "\n",
    "test_data_penguin = image_list_penguin[:test_index_penguin]\n",
    "val_data_penguin = image_list_penguin[test_index_penguin:val_index_penguin]\n",
    "train_data_penguin = image_list_penguin[val_index_penguin:]\n",
    "\n",
    "print(len(test_data_penguin), len(val_data_penguin), len(train_data_penguin))"
   ]
  },
  {
   "cell_type": "code",
   "execution_count": 16,
   "metadata": {},
   "outputs": [],
   "source": [
    "import csv\n",
    "\n",
    "via_path_albatross = 'mosaics/via_labels/albatross_alltiles_final.csv'\n",
    "\n",
    "image_annotations_train_albatross = []\n",
    "image_annotations_test_albatross = []\n",
    "image_annotations_val_albatross = []\n",
    "\n",
    "with open(via_path_albatross, \"r\") as f:\n",
    "    reader = csv.reader(f, delimiter=\",\")\n",
    "    for line in reader: \n",
    "        # output we want\n",
    "        # path/to/image.jpg,x1,y1,x2,y2,class_name\n",
    "        # /data/imgs/img_001.jpg,837,346,981,456,cow\n",
    "        if '#' in line[0][0]:\n",
    "            # bypassing comments in csv\n",
    "            continue\n",
    "        filename = line[1][2:-2]\n",
    "        # strip brackets, split and get only the values we care about, then convert all the string to int \n",
    "        top_left_x, top_left_y, width, height = list(map(int,list(map(float, line[4].strip('][').split(',')[1:]))))\n",
    "\n",
    "        if width == 0 or height == 0:\n",
    "            continue\n",
    "        \n",
    "        # move from top left and width/height to x and y values\n",
    "        if top_left_x < 0:\n",
    "            top_left_x = 1\n",
    "        if top_left_y < 0:\n",
    "            top_left_y = 1\n",
    "        x1 = top_left_x\n",
    "        x2 = top_left_x + width\n",
    "        y1 = top_left_y\n",
    "        y2 = top_left_y + height \n",
    "\n",
    "        # TODO didn't add names this time since it is all one class\n",
    "        name = \"albatross\"\n",
    "\n",
    "        # create the csv row\n",
    "        new_row = []\n",
    "        if filename in train_data_albatross:\n",
    "            new_row.append(filename)\n",
    "            new_row.append(x1)\n",
    "            new_row.append(y1)\n",
    "            new_row.append(x2)\n",
    "            new_row.append(y2)\n",
    "            new_row.append(name)\n",
    "\n",
    "            image_annotations_train_albatross.append(new_row)\n",
    "        elif filename in test_data_albatross:\n",
    "            new_row.append(filename)\n",
    "            new_row.append(x1)\n",
    "            new_row.append(y1)\n",
    "            new_row.append(x2)\n",
    "            new_row.append(y2)\n",
    "            new_row.append(name)\n",
    "\n",
    "            image_annotations_test_albatross.append(new_row)\n",
    "        else:\n",
    "            new_row.append(filename)\n",
    "            new_row.append(x1)\n",
    "            new_row.append(y1)\n",
    "            new_row.append(x2)\n",
    "            new_row.append(y2)\n",
    "            new_row.append(name)\n",
    "\n",
    "            image_annotations_val_albatross.append(new_row)"
   ]
  },
  {
   "cell_type": "code",
   "execution_count": 11,
   "metadata": {},
   "outputs": [],
   "source": [
    "import csv\n",
    "\n",
    "via_path_penguin = 'mosaics/via_labels/penguin_alltiles_final.csv'\n",
    "\n",
    "image_annotations_train_penguin = []\n",
    "image_annotations_test_penguin = []\n",
    "image_annotations_val_penguin = []\n",
    "\n",
    "with open(via_path_penguin, \"r\") as f:\n",
    "    reader = csv.reader(f, delimiter=\",\")\n",
    "    for line in reader: \n",
    "        # output we want\n",
    "        # path/to/image.jpg,x1,y1,x2,y2,class_name\n",
    "        # /data/imgs/img_001.jpg,837,346,981,456,cow\n",
    "        if '#' in line[0][0]:\n",
    "            # bypassing comments in csv\n",
    "            continue\n",
    "        filename = line[1][2:-2]\n",
    "        # strip brackets, split and get only the values we care about, then convert all the string to int \n",
    "        top_left_x, top_left_y, width, height = list(map(int,list(map(float, line[4].strip('][').split(',')[1:]))))\n",
    "\n",
    "        if width == 0 or height == 0:\n",
    "            continue\n",
    "        \n",
    "        # move from top left and width/height to x and y values\n",
    "        if top_left_x < 0:\n",
    "            top_left_x = 1\n",
    "        if top_left_y < 0:\n",
    "            top_left_y = 1\n",
    "        x1 = top_left_x\n",
    "        x2 = top_left_x + width\n",
    "        y1 = top_left_y\n",
    "        y2 = top_left_y + height \n",
    "\n",
    "        # TODO didn't add names this time since it is all one class\n",
    "        name = \"penguin\"\n",
    "\n",
    "        # create the csv row\n",
    "        new_row = []\n",
    "        if filename in train_data_penguin:\n",
    "            new_row.append(filename)\n",
    "            new_row.append(x1)\n",
    "            new_row.append(y1)\n",
    "            new_row.append(x2)\n",
    "            new_row.append(y2)\n",
    "            new_row.append(name)\n",
    "\n",
    "            image_annotations_train_penguin.append(new_row)\n",
    "        elif filename in test_data_penguin:\n",
    "            new_row.append(filename)\n",
    "            new_row.append(x1)\n",
    "            new_row.append(y1)\n",
    "            new_row.append(x2)\n",
    "            new_row.append(y2)\n",
    "            new_row.append(name)\n",
    "\n",
    "            image_annotations_test_penguin.append(new_row)\n",
    "        else:\n",
    "            new_row.append(filename)\n",
    "            new_row.append(x1)\n",
    "            new_row.append(y1)\n",
    "            new_row.append(x2)\n",
    "            new_row.append(y2)\n",
    "            new_row.append(name)\n",
    "\n",
    "            image_annotations_val_penguin.append(new_row)"
   ]
  },
  {
   "cell_type": "code",
   "execution_count": 17,
   "metadata": {
    "scrolled": false
   },
   "outputs": [
    {
     "name": "stdout",
     "output_type": "stream",
     "text": [
      "12107\n",
      "1438\n",
      "1425\n"
     ]
    }
   ],
   "source": [
    "print(len(image_annotations_train_albatross))\n",
    "print(len(image_annotations_test_albatross))\n",
    "print(len(image_annotations_val_albatross))"
   ]
  },
  {
   "cell_type": "code",
   "execution_count": 13,
   "metadata": {
    "scrolled": false
   },
   "outputs": [
    {
     "name": "stdout",
     "output_type": "stream",
     "text": [
      "24171\n",
      "2992\n",
      "2837\n"
     ]
    }
   ],
   "source": [
    "print(len(image_annotations_train_penguin))\n",
    "print(len(image_annotations_test_penguin))\n",
    "print(len(image_annotations_val_penguin))"
   ]
  },
  {
   "cell_type": "code",
   "execution_count": 14,
   "metadata": {},
   "outputs": [],
   "source": [
    "with open('mosaics/penguin/labeled_tiles_penguin/penguin_test_annotations_final.csv', 'w') as fp:\n",
    "    writer = csv.writer(fp)\n",
    "    writer.writerows(image_annotations_test_penguin)\n",
    "    \n",
    "with open('mosaics/penguin/labeled_tiles_penguin/penguin_val_annotations_final.csv', 'w') as fp:\n",
    "    writer = csv.writer(fp)\n",
    "    writer.writerows(image_annotations_val_penguin)\n",
    "    \n",
    "with open('mosaics/penguin/labeled_tiles_penguin/penguin_train_annotations_final.csv', 'w') as fp:\n",
    "    writer = csv.writer(fp)\n",
    "    writer.writerows(image_annotations_train_penguin)"
   ]
  },
  {
   "cell_type": "code",
   "execution_count": 8,
   "metadata": {},
   "outputs": [],
   "source": [
    "detection_classes = [[\"penguin\", 0]]\n",
    "with open('mosaics/labeled_tiles_penguin/classes.csv', 'w') as fp:\n",
    "    writer = csv.writer(fp)\n",
    "    writer.writerows(detection_classes)"
   ]
  },
  {
   "cell_type": "code",
   "execution_count": 12,
   "metadata": {},
   "outputs": [],
   "source": [
    "with open('mosaics/albatross/labeled_tiles_albatross/albatross_test_annotations_final.csv', 'w') as fp:\n",
    "    writer = csv.writer(fp)\n",
    "    writer.writerows(image_annotations_test_albatross)\n",
    "    \n",
    "with open('mosaics/albatross/labeled_tiles_albatross/albatross_val_annotations_final.csv', 'w') as fp:\n",
    "    writer = csv.writer(fp)\n",
    "    writer.writerows(image_annotations_val_albatross)\n",
    "    \n",
    "with open('mosaics/albatross/labeled_tiles_albatross/albatross_train_annotations_final.csv', 'w') as fp:\n",
    "    writer = csv.writer(fp)\n",
    "    writer.writerows(image_annotations_train_albatross)"
   ]
  },
  {
   "cell_type": "code",
   "execution_count": 21,
   "metadata": {},
   "outputs": [],
   "source": [
    "detection_classes = [[\"albatross\", 0]]\n",
    "with open('mosaics/tiles/classes.csv', 'w') as fp:\n",
    "    writer = csv.writer(fp)\n",
    "    writer.writerows(detection_classes)"
   ]
  },
  {
   "cell_type": "code",
   "execution_count": null,
   "metadata": {},
   "outputs": [],
   "source": []
  }
 ],
 "metadata": {
  "kernelspec": {
   "display_name": "Python 3",
   "language": "python",
   "name": "python3"
  },
  "language_info": {
   "codemirror_mode": {
    "name": "ipython",
    "version": 3
   },
   "file_extension": ".py",
   "mimetype": "text/x-python",
   "name": "python",
   "nbconvert_exporter": "python",
   "pygments_lexer": "ipython3",
   "version": "3.8.2"
  }
 },
 "nbformat": 4,
 "nbformat_minor": 4
}
